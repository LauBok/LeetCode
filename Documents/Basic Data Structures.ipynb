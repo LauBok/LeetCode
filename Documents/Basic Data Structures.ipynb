{
 "cells": [
  {
   "cell_type": "markdown",
   "metadata": {},
   "source": [
    "## Array\n",
    "- Sequential storage structure in memory\n",
    "- Can have fixed length or variable length"
   ]
  },
  {
   "cell_type": "markdown",
   "metadata": {},
   "source": [
    "### Time Complexity\n",
    "- Indexing: $O(1)$\n",
    "- Inserting/Deleting at beginning: $O(n)*$\n",
    "- Inserting/Deleting at end: $O(1)*$\n",
    "- Inserting/Deleting in the middle: $O(n)*$\n",
    "- Test containing relationship: $O(n)$"
   ]
  },
  {
   "cell_type": "markdown",
   "metadata": {},
   "source": [
    "### Relocation Strategy for Dynamic Array"
   ]
  },
  {
   "cell_type": "code",
   "execution_count": null,
   "metadata": {},
   "outputs": [],
   "source": [
    "import sys\n",
    "from matplotlib import pyplot as plt"
   ]
  },
  {
   "cell_type": "code",
   "execution_count": null,
   "metadata": {},
   "outputs": [],
   "source": [
    "lst = []\n",
    "sizelst = []\n",
    "for i in range(300):\n",
    "    sizelst.append(sys.getsizeof(lst))\n",
    "    lst.append(1)\n",
    "plt.figure(figsize = (15,8))\n",
    "plt.plot(sizelst)\n",
    "pass"
   ]
  },
  {
   "cell_type": "markdown",
   "metadata": {},
   "source": [
    "## Stack\n",
    "- Sequential storage structure in memory\n",
    "- First In Last Out (FILO) Strategy"
   ]
  },
  {
   "cell_type": "markdown",
   "metadata": {},
   "source": [
    "### Simple Implementation\n",
    "You can use `list` to implement a stack using `*.append()` and `*.pop()`."
   ]
  },
  {
   "cell_type": "code",
   "execution_count": null,
   "metadata": {},
   "outputs": [],
   "source": [
    "lst = [1,15]\n",
    "lst.append('a')\n",
    "print(lst)\n",
    "lst.append('b')\n",
    "print(lst)"
   ]
  },
  {
   "cell_type": "code",
   "execution_count": null,
   "metadata": {},
   "outputs": [],
   "source": [
    "item = lst.pop()\n",
    "print(item, lst)"
   ]
  },
  {
   "cell_type": "markdown",
   "metadata": {},
   "source": [
    "### Time Complexity\n",
    "- append: O(1)*\n",
    "- pop: O(1)"
   ]
  },
  {
   "cell_type": "markdown",
   "metadata": {},
   "source": [
    "**Note: Keep in mind that stack itself changes with append and pop operations!**"
   ]
  },
  {
   "cell_type": "markdown",
   "metadata": {},
   "source": [
    "### Exercise\n",
    "[LeetCode 20 Valid Parentheses](https://leetcode.com/problems/valid-parentheses/)\n",
    "\n",
    "Given a string containing just the characters '(', ')', '{', '}', '[' and ']', determine if the input string is valid.\n",
    "\n",
    "An input string is valid if:\n",
    "\n",
    "- Open brackets must be closed by the same type of brackets.\n",
    "- Open brackets must be closed in the correct order.\n",
    "- Note that an empty string is also considered valid."
   ]
  },
  {
   "cell_type": "markdown",
   "metadata": {},
   "source": [
    "Hint:\n",
    "- Where to use stack?\n",
    "- How to make use of `append` and `pop`?"
   ]
  },
  {
   "cell_type": "code",
   "execution_count": null,
   "metadata": {},
   "outputs": [],
   "source": [
    "class Solution:\n",
    "    def isValid(self, s: str) -> bool:\n",
    "        # your code here"
   ]
  },
  {
   "cell_type": "code",
   "execution_count": null,
   "metadata": {},
   "outputs": [],
   "source": [
    "[Solution().isValid(s) for s in [\"()\", \"()[]{}\", \"(]\", \"([)]\", \"{[]}\"]]\n",
    "# True, True, False, False, True"
   ]
  },
  {
   "cell_type": "markdown",
   "metadata": {},
   "source": [
    "## Queue\n",
    "- Sequential storage structure in memory\n",
    "- First In First Out (FIFO) Strategy"
   ]
  },
  {
   "cell_type": "markdown",
   "metadata": {},
   "source": [
    "### Implementation\n",
    "Python uses `collections.deque` to implement a queue.\n",
    "\n",
    "\"deque\": Double-Ended QUEue"
   ]
  },
  {
   "cell_type": "code",
   "execution_count": 3,
   "metadata": {},
   "outputs": [],
   "source": [
    "from collections import deque"
   ]
  },
  {
   "cell_type": "code",
   "execution_count": 7,
   "metadata": {},
   "outputs": [
    {
     "name": "stdout",
     "output_type": "stream",
     "text": [
      "deque([1, 3, 2, 7])\n"
     ]
    }
   ],
   "source": [
    "q = deque([1,3,2,7])\n",
    "print(q)"
   ]
  },
  {
   "cell_type": "code",
   "execution_count": 8,
   "metadata": {},
   "outputs": [
    {
     "name": "stdout",
     "output_type": "stream",
     "text": [
      "deque([8, 1, 3, 2, 7])\n"
     ]
    }
   ],
   "source": [
    "q.appendleft(8)\n",
    "print(q)"
   ]
  },
  {
   "cell_type": "code",
   "execution_count": 9,
   "metadata": {},
   "outputs": [
    {
     "name": "stdout",
     "output_type": "stream",
     "text": [
      "7 deque([8, 1, 3, 2])\n"
     ]
    }
   ],
   "source": [
    "value = q.pop()\n",
    "print(value, q)"
   ]
  },
  {
   "cell_type": "markdown",
   "metadata": {},
   "source": [
    "### Time Complexity\n",
    "- append: O(1)*\n",
    "- appendleft: O(1)*\n",
    "- pop: O(1)\n",
    "- popleft: O(1)"
   ]
  },
  {
   "cell_type": "markdown",
   "metadata": {},
   "source": [
    "### Exercise\n",
    "[LeetCode 20 Valid Parentheses](https://leetcode.com/problems/valid-parentheses/)"
   ]
  }
 ],
 "metadata": {
  "kernelspec": {
   "display_name": "Python 3",
   "language": "python",
   "name": "python3"
  },
  "language_info": {
   "codemirror_mode": {
    "name": "ipython",
    "version": 3
   },
   "file_extension": ".py",
   "mimetype": "text/x-python",
   "name": "python",
   "nbconvert_exporter": "python",
   "pygments_lexer": "ipython3",
   "version": "3.6.10"
  }
 },
 "nbformat": 4,
 "nbformat_minor": 2
}
