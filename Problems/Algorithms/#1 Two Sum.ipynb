{
 "cells": [
  {
   "cell_type": "markdown",
   "metadata": {},
   "source": [
    "## Two Sum\n",
    "\n",
    "Given an array of integers, return indices of the two numbers such that they add up to a specific target.\n",
    "\n",
    "You may assume that each input would have exactly one solution, and you may not use the same element twice.\n",
    "\n",
    "\n",
    "\n",
    "**Example:**\n",
    "\n",
    "``` \n",
    "Given nums = [2, 7, 11, 15], target = 9,\n",
    "\n",
    "Because nums[0] + nums[1] = 2 + 7 = 9,\n",
    "return [0, 1].\n",
    "```"
   ]
  },
  {
   "cell_type": "code",
   "execution_count": 19,
   "metadata": {},
   "outputs": [],
   "source": [
    "from typing import List"
   ]
  },
  {
   "cell_type": "markdown",
   "metadata": {},
   "source": [
    "### Brute Force\n",
    "**Time Complexity: $O(n^2)$**\n",
    "\n",
    "Test all pairs, and see which pair adds to target."
   ]
  },
  {
   "cell_type": "code",
   "execution_count": 20,
   "metadata": {},
   "outputs": [],
   "source": [
    "# Time Complexity: O(n^2)\n",
    "class Solution:\n",
    "    def twoSum(self, nums: List[int], target: int) -> List[int]:\n",
    "        for i in range(len(nums)):\n",
    "            for j in range(i + 1, len(nums)):\n",
    "                if (nums[i] + nums[j] == target):\n",
    "                    return [i,j]\n",
    "        return []"
   ]
  },
  {
   "cell_type": "markdown",
   "metadata": {},
   "source": [
    "### Sort and Compare\n",
    "**Time Complexity: $O(n\\log n)$**\n",
    "\n",
    "Suppose we sort the list from smallest to the largest. We initialize `left` as `0` and `right` as `len(nums)-1`, the indices of the first and the last element. If the sum is smaller than target, we add `left` by 1, and subtract `right` by 1 if bigger.\n",
    "\n",
    "*Need to keep track of position information.*"
   ]
  },
  {
   "cell_type": "code",
   "execution_count": 21,
   "metadata": {},
   "outputs": [],
   "source": [
    "# Time Complexity: O(nlogn)\n",
    "class Solution:\n",
    "    def twoSum(self, nums: List[int], target: int) -> List[int]:\n",
    "        sorted_nums = sorted(zip(nums, range(len(nums))),\n",
    "                            key = lambda x: x[0])\n",
    "        left, right = 0, len(sorted_nums) - 1\n",
    "        while True:\n",
    "            res = sorted_nums[left][0] + sorted_nums[right][0]\n",
    "            if res == target:\n",
    "                return [sorted_nums[left][1], sorted_nums[right][1]]\n",
    "            if res > target:\n",
    "                right -= 1\n",
    "            else:\n",
    "                left += 1"
   ]
  },
  {
   "cell_type": "markdown",
   "metadata": {},
   "source": [
    "### Search by Hash\n",
    "**Time Complexity: $O(n)$**\n",
    "\n",
    "For each element `x`, check whether `target-x` exists. Hash is implemented by `set` and `dict`.\n",
    "\n",
    "*Need to keep track of position information.*\n",
    "*Be careful with duplicates.*"
   ]
  },
  {
   "cell_type": "code",
   "execution_count": 60,
   "metadata": {},
   "outputs": [],
   "source": [
    "# Time Complexity: O(n)\n",
    "import collections\n",
    "class Solution:\n",
    "    def twoSum(self, nums: List[int], target: int) -> List[int]:\n",
    "        d = dict(zip(nums, range(len(nums))))\n",
    "        print(d)\n",
    "        if target/2 in d.keys():\n",
    "            d.pop(target/2)\n",
    "            if nums.count(target/2) == 2:\n",
    "                left = nums.index(target/2)\n",
    "                right = nums[left + 1:].index(target/2) + left + 1\n",
    "                return [left, right]\n",
    "        for val, pos in d.items():\n",
    "            if target - val in d:\n",
    "                pos2 = d[target - val]\n",
    "                return [min(pos, pos2), max(pos, pos2)]"
   ]
  },
  {
   "cell_type": "code",
   "execution_count": 61,
   "metadata": {},
   "outputs": [
    {
     "name": "stdout",
     "output_type": "stream",
     "text": [
      "{3: 1}\n"
     ]
    },
    {
     "data": {
      "text/plain": [
       "[0, 1]"
      ]
     },
     "execution_count": 61,
     "metadata": {},
     "output_type": "execute_result"
    }
   ],
   "source": [
    "nums = [3,3]\n",
    "target = 6\n",
    "a = Solution().twoSum(nums, target)\n",
    "a"
   ]
  },
  {
   "cell_type": "code",
   "execution_count": null,
   "metadata": {},
   "outputs": [],
   "source": []
  }
 ],
 "metadata": {
  "kernelspec": {
   "display_name": "Python 3",
   "language": "python",
   "name": "python3"
  },
  "language_info": {
   "codemirror_mode": {
    "name": "ipython",
    "version": 3
   },
   "file_extension": ".py",
   "mimetype": "text/x-python",
   "name": "python",
   "nbconvert_exporter": "python",
   "pygments_lexer": "ipython3",
   "version": "3.7.3"
  }
 },
 "nbformat": 4,
 "nbformat_minor": 2
}
