{
 "cells": [
  {
   "cell_type": "markdown",
   "metadata": {},
   "source": [
    "## Valid Parentheses\n",
    "\n",
    "Given a string containing just the characters '(', ')', '{', '}', '[' and ']', determine if the input string is valid.\n",
    "\n",
    "An input string is valid if:\n",
    "\n",
    "- Open brackets must be closed by the same type of brackets.\n",
    "- Open brackets must be closed in the correct order.\n",
    "- Note that an empty string is also considered valid.\n",
    "\n",
    "\n",
    "\n",
    "**Example:**\n",
    "\n",
    "``` \n",
    "Input: \"()\"\n",
    "Output: true\n",
    "```"
   ]
  },
  {
   "cell_type": "markdown",
   "metadata": {},
   "source": [
    "### Maintain a stack\n",
    "**Time Complexity: $O(n)$**\n",
    "\n",
    "- If a left parenthesis appears, push it into stack.\n",
    "- If a right parenthesis appears, compare it with the top of the stack."
   ]
  },
  {
   "cell_type": "code",
   "execution_count": 3,
   "metadata": {},
   "outputs": [],
   "source": [
    "class Solution:\n",
    "    d = {')':'(', ']':'[', '}':'{'}\n",
    "    def isValid(self, s: str) -> bool:\n",
    "        stack = []\n",
    "        for ch in s:\n",
    "            if ch in {'(', '[', '{'}:\n",
    "                stack.append(ch)\n",
    "            if ch in {')', ']', '}'}:\n",
    "                if len(stack) == 0:\n",
    "                    return False\n",
    "                tmp = stack.pop()\n",
    "                if Solution.d[ch] != tmp:\n",
    "                    return False\n",
    "        return len(stack) == 0"
   ]
  },
  {
   "cell_type": "code",
   "execution_count": 4,
   "metadata": {},
   "outputs": [
    {
     "data": {
      "text/plain": [
       "True"
      ]
     },
     "execution_count": 4,
     "metadata": {},
     "output_type": "execute_result"
    }
   ],
   "source": [
    "a = Solution().isValid(\"()[]\")\n",
    "a"
   ]
  },
  {
   "cell_type": "code",
   "execution_count": null,
   "metadata": {},
   "outputs": [],
   "source": []
  }
 ],
 "metadata": {
  "kernelspec": {
   "display_name": "Python 3",
   "language": "python",
   "name": "python3"
  },
  "language_info": {
   "codemirror_mode": {
    "name": "ipython",
    "version": 3
   },
   "file_extension": ".py",
   "mimetype": "text/x-python",
   "name": "python",
   "nbconvert_exporter": "python",
   "pygments_lexer": "ipython3",
   "version": "3.6.10"
  }
 },
 "nbformat": 4,
 "nbformat_minor": 2
}
