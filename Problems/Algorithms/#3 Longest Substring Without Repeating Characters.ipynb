{
 "cells": [
  {
   "cell_type": "markdown",
   "metadata": {},
   "source": [
    "## Longest Substring Without Repeating Characters\n",
    "\n",
    "Given a string, find the length of the longest substring without repeating characters.\n",
    "\n",
    "**Example:**\n",
    "\n",
    "``` \n",
    "Input: \"pwwkew\"\n",
    "Output: 3\n",
    "Explanation: The answer is \"wke\", with the length of 3. \n",
    "             Note that the answer must be a substring, \"pwke\" is a subsequence and not a substring.\n",
    "```"
   ]
  },
  {
   "cell_type": "markdown",
   "metadata": {},
   "source": [
    "### Using Double Pointer as a Queue\n",
    "**Time Complexity: $O(n)$**\n",
    "\n",
    "- Move right pointer\n",
    "- Check left pointer"
   ]
  },
  {
   "cell_type": "code",
   "execution_count": 4,
   "metadata": {},
   "outputs": [],
   "source": [
    "class Solution:\n",
    "    def lengthOfLongestSubstring(self, s: str) -> int:\n",
    "        maxlen = 0\n",
    "        occured = set()\n",
    "        left, right = 0,0\n",
    "        while right < len(s):\n",
    "            if s[right] in occured:\n",
    "                while True:\n",
    "                    cur_char = s[left]\n",
    "                    occured.remove(cur_char)\n",
    "                    left += 1\n",
    "                    if cur_char == s[right]:\n",
    "                        break\n",
    "            occured.add(s[right])\n",
    "            right += 1\n",
    "            if (right - left) > maxlen:\n",
    "                maxlen = right - left\n",
    "        return maxlen\n",
    "            "
   ]
  },
  {
   "cell_type": "code",
   "execution_count": 8,
   "metadata": {},
   "outputs": [
    {
     "data": {
      "text/plain": [
       "4"
      ]
     },
     "execution_count": 8,
     "metadata": {},
     "output_type": "execute_result"
    }
   ],
   "source": [
    "a = Solution().lengthOfLongestSubstring(\"apppedpdsc\")\n",
    "a"
   ]
  },
  {
   "cell_type": "code",
   "execution_count": null,
   "metadata": {},
   "outputs": [],
   "source": []
  }
 ],
 "metadata": {
  "kernelspec": {
   "display_name": "Python 3",
   "language": "python",
   "name": "python3"
  },
  "language_info": {
   "codemirror_mode": {
    "name": "ipython",
    "version": 3
   },
   "file_extension": ".py",
   "mimetype": "text/x-python",
   "name": "python",
   "nbconvert_exporter": "python",
   "pygments_lexer": "ipython3",
   "version": "3.6.10"
  }
 },
 "nbformat": 4,
 "nbformat_minor": 2
}
